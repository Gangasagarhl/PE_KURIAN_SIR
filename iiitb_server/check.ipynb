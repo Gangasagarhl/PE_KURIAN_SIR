{
 "cells": [
  {
   "cell_type": "code",
   "execution_count": 3,
   "id": "d10f006a",
   "metadata": {},
   "outputs": [
    {
     "name": "stdout",
     "output_type": "stream",
     "text": [
      "Defaulting to user installation because normal site-packages is not writeable\n",
      "Collecting twilio\n",
      "  Using cached twilio-9.5.2-py2.py3-none-any.whl.metadata (12 kB)\n",
      "Requirement already satisfied: requests>=2.0.0 in /home/raghavendra/.local/lib/python3.11/site-packages (from twilio) (2.32.3)\n",
      "Collecting PyJWT<3.0.0,>=2.0.0 (from twilio)\n",
      "  Using cached PyJWT-2.10.1-py3-none-any.whl.metadata (4.0 kB)\n",
      "Collecting aiohttp>=3.8.4 (from twilio)\n",
      "  Downloading aiohttp-3.11.16-cp311-cp311-manylinux_2_17_x86_64.manylinux2014_x86_64.whl.metadata (7.7 kB)\n",
      "Collecting aiohttp-retry>=2.8.3 (from twilio)\n",
      "  Using cached aiohttp_retry-2.9.1-py3-none-any.whl.metadata (8.8 kB)\n",
      "Collecting aiohappyeyeballs>=2.3.0 (from aiohttp>=3.8.4->twilio)\n",
      "  Using cached aiohappyeyeballs-2.6.1-py3-none-any.whl.metadata (5.9 kB)\n",
      "Collecting aiosignal>=1.1.2 (from aiohttp>=3.8.4->twilio)\n",
      "  Using cached aiosignal-1.3.2-py2.py3-none-any.whl.metadata (3.8 kB)\n",
      "Collecting attrs>=17.3.0 (from aiohttp>=3.8.4->twilio)\n",
      "  Using cached attrs-25.3.0-py3-none-any.whl.metadata (10 kB)\n",
      "Collecting frozenlist>=1.1.1 (from aiohttp>=3.8.4->twilio)\n",
      "  Downloading frozenlist-1.5.0-cp311-cp311-manylinux_2_5_x86_64.manylinux1_x86_64.manylinux_2_17_x86_64.manylinux2014_x86_64.whl.metadata (13 kB)\n",
      "Collecting multidict<7.0,>=4.5 (from aiohttp>=3.8.4->twilio)\n",
      "  Downloading multidict-6.4.3-cp311-cp311-manylinux_2_17_x86_64.manylinux2014_x86_64.whl.metadata (5.3 kB)\n",
      "Collecting propcache>=0.2.0 (from aiohttp>=3.8.4->twilio)\n",
      "  Downloading propcache-0.3.1-cp311-cp311-manylinux_2_17_x86_64.manylinux2014_x86_64.whl.metadata (10 kB)\n",
      "Collecting yarl<2.0,>=1.17.0 (from aiohttp>=3.8.4->twilio)\n",
      "  Downloading yarl-1.19.0-cp311-cp311-manylinux_2_17_x86_64.manylinux2014_x86_64.whl.metadata (71 kB)\n",
      "Requirement already satisfied: charset-normalizer<4,>=2 in /home/raghavendra/.local/lib/python3.11/site-packages (from requests>=2.0.0->twilio) (3.4.1)\n",
      "Requirement already satisfied: idna<4,>=2.5 in /home/raghavendra/.local/lib/python3.11/site-packages (from requests>=2.0.0->twilio) (3.10)\n",
      "Requirement already satisfied: urllib3<3,>=1.21.1 in /home/raghavendra/.local/lib/python3.11/site-packages (from requests>=2.0.0->twilio) (2.4.0)\n",
      "Requirement already satisfied: certifi>=2017.4.17 in /home/raghavendra/.local/lib/python3.11/site-packages (from requests>=2.0.0->twilio) (2025.1.31)\n",
      "Using cached twilio-9.5.2-py2.py3-none-any.whl (1.9 MB)\n",
      "Downloading aiohttp-3.11.16-cp311-cp311-manylinux_2_17_x86_64.manylinux2014_x86_64.whl (1.7 MB)\n",
      "\u001b[2K   \u001b[90m━━━━━━━━━━━━━━━━━━━━━━━━━━━━━━━━━━━━━━━━\u001b[0m \u001b[32m1.7/1.7 MB\u001b[0m \u001b[31m129.8 kB/s\u001b[0m eta \u001b[36m0:00:00\u001b[0ma \u001b[36m0:00:01\u001b[0m\n",
      "\u001b[?25hUsing cached aiohttp_retry-2.9.1-py3-none-any.whl (10.0 kB)\n",
      "Using cached PyJWT-2.10.1-py3-none-any.whl (22 kB)\n",
      "Using cached aiohappyeyeballs-2.6.1-py3-none-any.whl (15 kB)\n",
      "Using cached aiosignal-1.3.2-py2.py3-none-any.whl (7.6 kB)\n",
      "Using cached attrs-25.3.0-py3-none-any.whl (63 kB)\n",
      "Downloading frozenlist-1.5.0-cp311-cp311-manylinux_2_5_x86_64.manylinux1_x86_64.manylinux_2_17_x86_64.manylinux2014_x86_64.whl (274 kB)\n",
      "Downloading multidict-6.4.3-cp311-cp311-manylinux_2_17_x86_64.manylinux2014_x86_64.whl (223 kB)\n",
      "Downloading propcache-0.3.1-cp311-cp311-manylinux_2_17_x86_64.manylinux2014_x86_64.whl (232 kB)\n",
      "Downloading yarl-1.19.0-cp311-cp311-manylinux_2_17_x86_64.manylinux2014_x86_64.whl (358 kB)\n",
      "Installing collected packages: PyJWT, propcache, multidict, frozenlist, attrs, aiohappyeyeballs, yarl, aiosignal, aiohttp, aiohttp-retry, twilio\n",
      "Successfully installed PyJWT-2.10.1 aiohappyeyeballs-2.6.1 aiohttp-3.11.16 aiohttp-retry-2.9.1 aiosignal-1.3.2 attrs-25.3.0 frozenlist-1.5.0 multidict-6.4.3 propcache-0.3.1 twilio-9.5.2 yarl-1.19.0\n"
     ]
    }
   ],
   "source": [
    "!pip install twilio"
   ]
  },
  {
   "cell_type": "code",
   "execution_count": 3,
   "id": "daa462e7",
   "metadata": {},
   "outputs": [
    {
     "name": "stderr",
     "output_type": "stream",
     "text": [
      "Exception in thread Thread-6 (alerting_all):\n",
      "Traceback (most recent call last):\n",
      "  File \"/usr/local/lib/python3.11/threading.py\", line 1038, in _bootstrap_inner\n",
      "    self.run()\n",
      "  File \"/home/raghavendra/.local/lib/python3.11/site-packages/ipykernel/ipkernel.py\", line 766, in run_closure\n",
      "    _threading_Thread_run(self)\n",
      "  File \"/usr/local/lib/python3.11/threading.py\", line 975, in run\n",
      "    self._target(*self._args, **self._kwargs)\n",
      "  File \"/home/raghavendra/AAAA/Second Semester/PE-KURIAN_SIR/WEEKLY_SUBMISSIONS/Project_deployment/PE_KURIAN_SIR/iiitb_server/extreme_emergency_alerts/alert_neighbours.py\", line 62, in alerting_all\n",
      "    \n",
      "  File \"/home/raghavendra/AAAA/Second Semester/PE-KURIAN_SIR/WEEKLY_SUBMISSIONS/Project_deployment/PE_KURIAN_SIR/iiitb_server/extreme_emergency_alerts/alert_neighbours.py\", line 22, in extract_the_neighbours_info_from_database\n",
      "    \n",
      "  File \"/home/raghavendra/AAAA/Second Semester/PE-KURIAN_SIR/WEEKLY_SUBMISSIONS/Project_deployment/PE_KURIAN_SIR/iiitb_server/extreme_emergency_alerts/alert_neighbours.py\", line 14, in extract_emails\n",
      "    print(\"extract emails\\n\")\n",
      "         ^^^^^^^^^^^^^^^^^^^^^\n",
      "  File \"/home/raghavendra/.local/lib/python3.11/site-packages/pandas/io/parsers/readers.py\", line 1026, in read_csv\n",
      "    return _read(filepath_or_buffer, kwds)\n",
      "           ^^^^^^^^^^^^^^^^^^^^^^^^^^^^^^^\n",
      "  File \"/home/raghavendra/.local/lib/python3.11/site-packages/pandas/io/parsers/readers.py\", line 620, in _read\n",
      "    parser = TextFileReader(filepath_or_buffer, **kwds)\n",
      "             ^^^^^^^^^^^^^^^^^^^^^^^^^^^^^^^^^^^^^^^^^^\n",
      "  File \"/home/raghavendra/.local/lib/python3.11/site-packages/pandas/io/parsers/readers.py\", line 1620, in __init__\n",
      "    self._engine = self._make_engine(f, self.engine)\n",
      "                   ^^^^^^^^^^^^^^^^^^^^^^^^^^^^^^^^^\n",
      "  File \"/home/raghavendra/.local/lib/python3.11/site-packages/pandas/io/parsers/readers.py\", line 1880, in _make_engine\n",
      "    self.handles = get_handle(\n",
      "                   ^^^^^^^^^^^\n",
      "  File \"/home/raghavendra/.local/lib/python3.11/site-packages/pandas/io/common.py\", line 873, in get_handle\n",
      "    handle = open(\n",
      "             ^^^^^\n",
      "FileNotFoundError: [Errno 2] No such file or directory: '../database/email.csv'\n"
     ]
    },
    {
     "name": "stdout",
     "output_type": "stream",
     "text": [
      "alert neighbours is initiated\n",
      "\n",
      "sag1\n",
      "Visveswaraya@iiitb\n",
      "1.mp4\n"
     ]
    },
    {
     "data": {
      "text/plain": [
       "True"
      ]
     },
     "execution_count": 3,
     "metadata": {},
     "output_type": "execute_result"
    }
   ],
   "source": [
    "from extreme_emergency_alerts.alert_neighbours import alert_neighbours\n",
    "obj =  alert_neighbours()\n",
    "obj.truly_alert()"
   ]
  }
 ],
 "metadata": {
  "kernelspec": {
   "display_name": "Python 3",
   "language": "python",
   "name": "python3"
  },
  "language_info": {
   "codemirror_mode": {
    "name": "ipython",
    "version": 3
   },
   "file_extension": ".py",
   "mimetype": "text/x-python",
   "name": "python",
   "nbconvert_exporter": "python",
   "pygments_lexer": "ipython3",
   "version": "3.11.0"
  }
 },
 "nbformat": 4,
 "nbformat_minor": 5
}
