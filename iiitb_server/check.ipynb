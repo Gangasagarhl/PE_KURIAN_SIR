{
 "cells": [
  {
   "cell_type": "code",
   "execution_count": 3,
   "id": "d10f006a",
   "metadata": {},
   "outputs": [
    {
     "name": "stdout",
     "output_type": "stream",
     "text": [
      "Defaulting to user installation because normal site-packages is not writeable\n",
      "Collecting twilio\n",
      "  Using cached twilio-9.5.2-py2.py3-none-any.whl.metadata (12 kB)\n",
      "Requirement already satisfied: requests>=2.0.0 in /home/raghavendra/.local/lib/python3.11/site-packages (from twilio) (2.32.3)\n",
      "Collecting PyJWT<3.0.0,>=2.0.0 (from twilio)\n",
      "  Using cached PyJWT-2.10.1-py3-none-any.whl.metadata (4.0 kB)\n",
      "Collecting aiohttp>=3.8.4 (from twilio)\n",
      "  Downloading aiohttp-3.11.16-cp311-cp311-manylinux_2_17_x86_64.manylinux2014_x86_64.whl.metadata (7.7 kB)\n",
      "Collecting aiohttp-retry>=2.8.3 (from twilio)\n",
      "  Using cached aiohttp_retry-2.9.1-py3-none-any.whl.metadata (8.8 kB)\n",
      "Collecting aiohappyeyeballs>=2.3.0 (from aiohttp>=3.8.4->twilio)\n",
      "  Using cached aiohappyeyeballs-2.6.1-py3-none-any.whl.metadata (5.9 kB)\n",
      "Collecting aiosignal>=1.1.2 (from aiohttp>=3.8.4->twilio)\n",
      "  Using cached aiosignal-1.3.2-py2.py3-none-any.whl.metadata (3.8 kB)\n",
      "Collecting attrs>=17.3.0 (from aiohttp>=3.8.4->twilio)\n",
      "  Using cached attrs-25.3.0-py3-none-any.whl.metadata (10 kB)\n",
      "Collecting frozenlist>=1.1.1 (from aiohttp>=3.8.4->twilio)\n",
      "  Downloading frozenlist-1.5.0-cp311-cp311-manylinux_2_5_x86_64.manylinux1_x86_64.manylinux_2_17_x86_64.manylinux2014_x86_64.whl.metadata (13 kB)\n",
      "Collecting multidict<7.0,>=4.5 (from aiohttp>=3.8.4->twilio)\n",
      "  Downloading multidict-6.4.3-cp311-cp311-manylinux_2_17_x86_64.manylinux2014_x86_64.whl.metadata (5.3 kB)\n",
      "Collecting propcache>=0.2.0 (from aiohttp>=3.8.4->twilio)\n",
      "  Downloading propcache-0.3.1-cp311-cp311-manylinux_2_17_x86_64.manylinux2014_x86_64.whl.metadata (10 kB)\n",
      "Collecting yarl<2.0,>=1.17.0 (from aiohttp>=3.8.4->twilio)\n",
      "  Downloading yarl-1.19.0-cp311-cp311-manylinux_2_17_x86_64.manylinux2014_x86_64.whl.metadata (71 kB)\n",
      "Requirement already satisfied: charset-normalizer<4,>=2 in /home/raghavendra/.local/lib/python3.11/site-packages (from requests>=2.0.0->twilio) (3.4.1)\n",
      "Requirement already satisfied: idna<4,>=2.5 in /home/raghavendra/.local/lib/python3.11/site-packages (from requests>=2.0.0->twilio) (3.10)\n",
      "Requirement already satisfied: urllib3<3,>=1.21.1 in /home/raghavendra/.local/lib/python3.11/site-packages (from requests>=2.0.0->twilio) (2.4.0)\n",
      "Requirement already satisfied: certifi>=2017.4.17 in /home/raghavendra/.local/lib/python3.11/site-packages (from requests>=2.0.0->twilio) (2025.1.31)\n",
      "Using cached twilio-9.5.2-py2.py3-none-any.whl (1.9 MB)\n",
      "Downloading aiohttp-3.11.16-cp311-cp311-manylinux_2_17_x86_64.manylinux2014_x86_64.whl (1.7 MB)\n",
      "\u001b[2K   \u001b[90m━━━━━━━━━━━━━━━━━━━━━━━━━━━━━━━━━━━━━━━━\u001b[0m \u001b[32m1.7/1.7 MB\u001b[0m \u001b[31m129.8 kB/s\u001b[0m eta \u001b[36m0:00:00\u001b[0ma \u001b[36m0:00:01\u001b[0m\n",
      "\u001b[?25hUsing cached aiohttp_retry-2.9.1-py3-none-any.whl (10.0 kB)\n",
      "Using cached PyJWT-2.10.1-py3-none-any.whl (22 kB)\n",
      "Using cached aiohappyeyeballs-2.6.1-py3-none-any.whl (15 kB)\n",
      "Using cached aiosignal-1.3.2-py2.py3-none-any.whl (7.6 kB)\n",
      "Using cached attrs-25.3.0-py3-none-any.whl (63 kB)\n",
      "Downloading frozenlist-1.5.0-cp311-cp311-manylinux_2_5_x86_64.manylinux1_x86_64.manylinux_2_17_x86_64.manylinux2014_x86_64.whl (274 kB)\n",
      "Downloading multidict-6.4.3-cp311-cp311-manylinux_2_17_x86_64.manylinux2014_x86_64.whl (223 kB)\n",
      "Downloading propcache-0.3.1-cp311-cp311-manylinux_2_17_x86_64.manylinux2014_x86_64.whl (232 kB)\n",
      "Downloading yarl-1.19.0-cp311-cp311-manylinux_2_17_x86_64.manylinux2014_x86_64.whl (358 kB)\n",
      "Installing collected packages: PyJWT, propcache, multidict, frozenlist, attrs, aiohappyeyeballs, yarl, aiosignal, aiohttp, aiohttp-retry, twilio\n",
      "Successfully installed PyJWT-2.10.1 aiohappyeyeballs-2.6.1 aiohttp-3.11.16 aiohttp-retry-2.9.1 aiosignal-1.3.2 attrs-25.3.0 frozenlist-1.5.0 multidict-6.4.3 propcache-0.3.1 twilio-9.5.2 yarl-1.19.0\n"
     ]
    }
   ],
   "source": [
    "!pip install twilio"
   ]
  },
  {
   "cell_type": "code",
   "execution_count": 5,
   "id": "daa462e7",
   "metadata": {},
   "outputs": [
    {
     "name": "stdout",
     "output_type": "stream",
     "text": [
      "alert neighbours is initiated\n",
      "\n"
     ]
    },
    {
     "ename": "AssertionError",
     "evalue": "group argument must be None for now",
     "output_type": "error",
     "traceback": [
      "\u001b[31m---------------------------------------------------------------------------\u001b[39m",
      "\u001b[31mAssertionError\u001b[39m                            Traceback (most recent call last)",
      "\u001b[36mCell\u001b[39m\u001b[36m \u001b[39m\u001b[32mIn[5]\u001b[39m\u001b[32m, line 4\u001b[39m\n\u001b[32m      1\u001b[39m \u001b[38;5;28;01mfrom\u001b[39;00m\u001b[38;5;250m \u001b[39m\u001b[34;01mextreme_emergency_alerts\u001b[39;00m\u001b[34;01m.\u001b[39;00m\u001b[34;01malert_neighbours\u001b[39;00m\u001b[38;5;250m \u001b[39m\u001b[38;5;28;01mimport\u001b[39;00m alert_neighbours\n\u001b[32m      2\u001b[39m obj =  alert_neighbours()\n\u001b[32m----> \u001b[39m\u001b[32m4\u001b[39m \u001b[38;5;28mprint\u001b[39m(\u001b[43mobj\u001b[49m\u001b[43m.\u001b[49m\u001b[43mtruly_alert\u001b[49m\u001b[43m(\u001b[49m\u001b[43m)\u001b[49m)\n",
      "\u001b[36mFile \u001b[39m\u001b[32m~/AAAA/Second Semester/PE-KURIAN_SIR/WEEKLY_SUBMISSIONS/Project_deployment/PE_KURIAN_SIR/iiitb_server/extreme_emergency_alerts/alert_neighbours.py:43\u001b[39m, in \u001b[36malert_neighbours.truly_alert\u001b[39m\u001b[34m(self)\u001b[39m\n\u001b[32m     41\u001b[39m name=\u001b[33m\"\u001b[39m\u001b[33m1.mp4\u001b[39m\u001b[33m\"\u001b[39m\n\u001b[32m     42\u001b[39m \u001b[38;5;66;03m#video.save(name)\u001b[39;00m\n\u001b[32m---> \u001b[39m\u001b[32m43\u001b[39m t1 = \u001b[43mthreading\u001b[49m\u001b[43m.\u001b[49m\u001b[43mThread\u001b[49m\u001b[43m(\u001b[49m\u001b[43m \u001b[49m\u001b[38;5;28;43mself\u001b[39;49m\u001b[43m.\u001b[49m\u001b[43malerting_all\u001b[49m\u001b[43m,\u001b[49m\u001b[43margs\u001b[49m\u001b[43m=\u001b[49m\u001b[43m(\u001b[49m\u001b[43mname\u001b[49m\u001b[43m,\u001b[49m\u001b[38;5;28;43mid\u001b[39;49m\u001b[43m,\u001b[49m\u001b[43maddress\u001b[49m\u001b[43m)\u001b[49m\u001b[43m)\u001b[49m\n\u001b[32m     44\u001b[39m t1.start()\n\u001b[32m     45\u001b[39m t1.join()\n",
      "\u001b[36mFile \u001b[39m\u001b[32m~/.local/lib/python3.11/site-packages/ipykernel/ipkernel.py:769\u001b[39m, in \u001b[36mIPythonKernel._initialize_thread_hooks.<locals>.init_closure\u001b[39m\u001b[34m(self, *args, **kwargs)\u001b[39m\n\u001b[32m    768\u001b[39m \u001b[38;5;28;01mdef\u001b[39;00m\u001b[38;5;250m \u001b[39m\u001b[34minit_closure\u001b[39m(\u001b[38;5;28mself\u001b[39m: threading.Thread, *args, **kwargs):\n\u001b[32m--> \u001b[39m\u001b[32m769\u001b[39m     \u001b[43m_threading_Thread__init__\u001b[49m\u001b[43m(\u001b[49m\u001b[38;5;28;43mself\u001b[39;49m\u001b[43m,\u001b[49m\u001b[43m \u001b[49m\u001b[43m*\u001b[49m\u001b[43margs\u001b[49m\u001b[43m,\u001b[49m\u001b[43m \u001b[49m\u001b[43m*\u001b[49m\u001b[43m*\u001b[49m\u001b[43mkwargs\u001b[49m\u001b[43m)\u001b[49m\n\u001b[32m    770\u001b[39m     \u001b[38;5;28mself\u001b[39m._ipykernel_parent_thread_ident = threading.get_ident()\n",
      "\u001b[36mFile \u001b[39m\u001b[32m/usr/local/lib/python3.11/threading.py:872\u001b[39m, in \u001b[36mThread.__init__\u001b[39m\u001b[34m(self, group, target, name, args, kwargs, daemon)\u001b[39m\n\u001b[32m    849\u001b[39m \u001b[38;5;28;01mdef\u001b[39;00m\u001b[38;5;250m \u001b[39m\u001b[34m__init__\u001b[39m(\u001b[38;5;28mself\u001b[39m, group=\u001b[38;5;28;01mNone\u001b[39;00m, target=\u001b[38;5;28;01mNone\u001b[39;00m, name=\u001b[38;5;28;01mNone\u001b[39;00m,\n\u001b[32m    850\u001b[39m              args=(), kwargs=\u001b[38;5;28;01mNone\u001b[39;00m, *, daemon=\u001b[38;5;28;01mNone\u001b[39;00m):\n\u001b[32m    851\u001b[39m \u001b[38;5;250m    \u001b[39m\u001b[33;03m\"\"\"This constructor should always be called with keyword arguments. Arguments are:\u001b[39;00m\n\u001b[32m    852\u001b[39m \n\u001b[32m    853\u001b[39m \u001b[33;03m    *group* should be None; reserved for future extension when a ThreadGroup\u001b[39;00m\n\u001b[32m   (...)\u001b[39m\u001b[32m    870\u001b[39m \n\u001b[32m    871\u001b[39m \u001b[33;03m    \"\"\"\u001b[39;00m\n\u001b[32m--> \u001b[39m\u001b[32m872\u001b[39m     \u001b[38;5;28;01massert\u001b[39;00m group \u001b[38;5;129;01mis\u001b[39;00m \u001b[38;5;28;01mNone\u001b[39;00m, \u001b[33m\"\u001b[39m\u001b[33mgroup argument must be None for now\u001b[39m\u001b[33m\"\u001b[39m\n\u001b[32m    873\u001b[39m     \u001b[38;5;28;01mif\u001b[39;00m kwargs \u001b[38;5;129;01mis\u001b[39;00m \u001b[38;5;28;01mNone\u001b[39;00m:\n\u001b[32m    874\u001b[39m         kwargs = {}\n",
      "\u001b[31mAssertionError\u001b[39m: group argument must be None for now"
     ]
    }
   ],
   "source": [
    "from extreme_emergency_alerts.alert_neighbours import alert_neighbours\n",
    "obj =  alert_neighbours()\n",
    "\n",
    "print(obj.truly_alert())"
   ]
  }
 ],
 "metadata": {
  "kernelspec": {
   "display_name": "Python 3",
   "language": "python",
   "name": "python3"
  },
  "language_info": {
   "codemirror_mode": {
    "name": "ipython",
    "version": 3
   },
   "file_extension": ".py",
   "mimetype": "text/x-python",
   "name": "python",
   "nbconvert_exporter": "python",
   "pygments_lexer": "ipython3",
   "version": "3.11.0"
  }
 },
 "nbformat": 4,
 "nbformat_minor": 5
}
