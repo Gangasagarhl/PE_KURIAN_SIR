{
 "cells": [
  {
   "cell_type": "code",
   "execution_count": 3,
   "metadata": {},
   "outputs": [],
   "source": [
    "from transformers import T5Tokenizer, T5ForConditionalGeneration\n",
    "import torch\n",
    "\n",
    "# Load Pretrained T5 Model & Tokenizer\n",
    "model_name = \"t5-base\"  # Change to \"t5-large\" for better results\n",
    "tokenizer = T5Tokenizer.from_pretrained(model_name)\n",
    "model = T5ForConditionalGeneration.from_pretrained(model_name)\n"
   ]
  },
  {
   "cell_type": "markdown",
   "metadata": {},
   "source": [
    "##Steps\n",
    "\n",
    "1.  You have the csv sheet, time and image description is ready then \n",
    "3.  "
   ]
  },
  {
   "cell_type": "code",
   "execution_count": null,
   "metadata": {},
   "outputs": [
    {
     "name": "stderr",
     "output_type": "stream",
     "text": [
      "Device set to use cpu\n",
      "/tmp/ipykernel_34117/2030157878.py:11: LangChainDeprecationWarning: The class `HuggingFacePipeline` was deprecated in LangChain 0.0.37 and will be removed in 1.0. An updated version of the class exists in the :class:`~langchain-huggingface package and should be used instead. To use it run `pip install -U :class:`~langchain-huggingface` and import as `from :class:`~langchain_huggingface import HuggingFacePipeline``.\n",
      "  llm = HuggingFacePipeline(pipeline=summarization_pipeline)\n"
     ]
    }
   ],
   "source": [
    "from langchain.text_splitter import RecursiveCharacterTextSplitter\n",
    "from langchain.docstore.document import Document\n",
    "from langchain.chains.summarize import load_summarize_chain\n",
    "from langchain.llms import HuggingFacePipeline\n",
    "from transformers import pipeline\n",
    "\n",
    "# Load the HuggingFace summarization pipeline\n",
    "summarization_pipeline = pipeline(\"text2text-generation\", model=model, tokenizer=tokenizer)\n",
    "\n",
    "# Wrap the model in Langchain's HuggingFacePipeline\n",
    "llm = HuggingFacePipeline(pipeline=summarization_pipeline)\n",
    "\n",
    "# Function to Split Text into Chunks\n",
    "def split_text(text, chunk_size=500, overlap=40):\n",
    "    text_splitter = RecursiveCharacterTextSplitter(chunk_size=chunk_size, chunk_overlap=overlap)\n",
    "    return text_splitter.split_text(text)\n",
    "\n",
    "# Function for Summarization with Refinement\n",
    "def refine_summarization(text):\n",
    "    # Step 1: Split text into smaller chunks\n",
    "    chunks = split_text(text)\n",
    "    documents = [Document(page_content=chunk) for chunk in chunks]\n",
    "\n",
    "    # Step 2: Load Refinement Summarization Chain\n",
    "    chain = load_summarize_chain(llm, chain_type=\"refine\")\n",
    "\n",
    "    # Step 3: Run Refinement Summarization\n",
    "    refined_summary = chain.run(documents)\n",
    "\n",
    "    return refined_summary\n"
   ]
  },
  {
   "cell_type": "code",
   "execution_count": null,
   "metadata": {},
   "outputs": [
    {
     "name": "stdout",
     "output_type": "stream",
     "text": [
      "🔹 Summary: artificial intelligence (AI) is transforming industries across the globe . it enables machines to learn from data and make decisions . applications include self-driving cars, virtual assistants, and medical diagnosis .\n"
     ]
    }
   ],
   "source": [
    "text = \"\"\"\n",
    "Artificial Intelligence (AI) is transforming industries across the globe. \n",
    "It enables machines to learn from data and make decisions. AI applications include self-driving cars, \n",
    "virtual assistants, and medical diagnosis.\n",
    "\"\"\"\n"
   ]
  },
  {
   "cell_type": "code",
   "execution_count": null,
   "metadata": {},
   "outputs": [
    {
     "name": "stdout",
     "output_type": "stream",
     "text": [
      "Parent directory: /home/hlgsagar/AAAA/personal/Course_Work/Second Semester/PE-KURIAN_SIR/WEEKLY_SUBMISSIONS/Project_deployment/PE_KURIAN_SIR/iiitb_server\n",
      "Updated sys.path: ['/usr/lib/python311.zip', '/usr/lib/python3.11', '/usr/lib/python3.11/lib-dynload', '', '/home/hlgsagar/.local/lib/python3.11/site-packages', '/usr/local/lib/python3.11/dist-packages', '/usr/lib/python3/dist-packages', '/usr/lib/python3.11/dist-packages', '/tmp/tmp927dtf7l', '/home/hlgsagar/AAAA/personal/Course_Work/Second Semester/PE-KURIAN_SIR/WEEKLY_SUBMISSIONS/Project_deployment/PE_KURIAN_SIR/iiitb_server', '/home/hlgsagar/AAAA/personal/Course_Work/Second Semester/PE-KURIAN_SIR/WEEKLY_SUBMISSIONS/Project_deployment/PE_KURIAN_SIR/iiitb_server', '/home/hlgsagar/AAAA/personal/Course_Work/Second Semester/PE-KURIAN_SIR/WEEKLY_SUBMISSIONS/Project_deployment/PE_KURIAN_SIR/iiitb_server', '/home/hlgsagar/AAAA/personal/Course_Work/Second Semester/PE-KURIAN_SIR/WEEKLY_SUBMISSIONS/Project_deployment/PE_KURIAN_SIR/iiitb_server', '/home/hlgsagar/AAAA/personal/Course_Work/Second Semester/PE-KURIAN_SIR/WEEKLY_SUBMISSIONS/Project_deployment/PE_KURIAN_SIR/iiitb_server', '/home/hlgsagar/AAAA/personal/Course_Work/Second Semester/PE-KURIAN_SIR/WEEKLY_SUBMISSIONS/Project_deployment/PE_KURIAN_SIR/iiitb_server', '/home/hlgsagar/AAAA/personal/Course_Work/Second Semester/PE-KURIAN_SIR/WEEKLY_SUBMISSIONS/Project_deployment/PE_KURIAN_SIR/iiitb_server', '/home/hlgsagar/AAAA/personal/Course_Work/Second Semester/PE-KURIAN_SIR/WEEKLY_SUBMISSIONS/Project_deployment/PE_KURIAN_SIR/iiitb_server', '/home/hlgsagar/AAAA/personal/Course_Work/Second Semester/PE-KURIAN_SIR/WEEKLY_SUBMISSIONS/Project_deployment/PE_KURIAN_SIR/iiitb_server', '/home/hlgsagar/AAAA/personal/Course_Work/Second Semester/PE-KURIAN_SIR/WEEKLY_SUBMISSIONS/Project_deployment/PE_KURIAN_SIR/iiitb_server', '/home/hlgsagar/AAAA/personal/Course_Work/Second Semester/PE-KURIAN_SIR/WEEKLY_SUBMISSIONS/Project_deployment/PE_KURIAN_SIR/iiitb_server', '/home/hlgsagar/AAAA/personal/Course_Work/Second Semester/PE-KURIAN_SIR/WEEKLY_SUBMISSIONS/Project_deployment/PE_KURIAN_SIR/iiitb_server', '/home/hlgsagar/AAAA/personal/Course_Work/Second Semester/PE-KURIAN_SIR/WEEKLY_SUBMISSIONS/Project_deployment/PE_KURIAN_SIR/iiitb_server', '/home/hlgsagar/AAAA/personal/Course_Work/Second Semester/PE-KURIAN_SIR/WEEKLY_SUBMISSIONS/Project_deployment/PE_KURIAN_SIR/iiitb_server', '/home/hlgsagar/AAAA/personal/Course_Work/Second Semester/PE-KURIAN_SIR/WEEKLY_SUBMISSIONS/Project_deployment/PE_KURIAN_SIR/iiitb_server', '/home/hlgsagar/AAAA/personal/Course_Work/Second Semester/PE-KURIAN_SIR/WEEKLY_SUBMISSIONS/Project_deployment/PE_KURIAN_SIR/iiitb_server', '/home/hlgsagar/AAAA/personal/Course_Work/Second Semester/PE-KURIAN_SIR/WEEKLY_SUBMISSIONS/Project_deployment/PE_KURIAN_SIR/iiitb_server', '/home/hlgsagar/AAAA/personal/Course_Work/Second Semester/PE-KURIAN_SIR/WEEKLY_SUBMISSIONS/Project_deployment/PE_KURIAN_SIR/iiitb_server', '/home/hlgsagar/AAAA/personal/Course_Work/Second Semester/PE-KURIAN_SIR/WEEKLY_SUBMISSIONS/Project_deployment/PE_KURIAN_SIR/iiitb_server', '/home/hlgsagar/AAAA/personal/Course_Work/Second Semester/PE-KURIAN_SIR/WEEKLY_SUBMISSIONS/Project_deployment/PE_KURIAN_SIR/iiitb_server', '/home/hlgsagar/AAAA/personal/Course_Work/Second Semester/PE-KURIAN_SIR/WEEKLY_SUBMISSIONS/Project_deployment/PE_KURIAN_SIR/iiitb_server', '/home/hlgsagar/AAAA/personal/Course_Work/Second Semester/PE-KURIAN_SIR/WEEKLY_SUBMISSIONS/Project_deployment/PE_KURIAN_SIR/iiitb_server', '/home/hlgsagar/AAAA/personal/Course_Work/Second Semester/PE-KURIAN_SIR/WEEKLY_SUBMISSIONS/Project_deployment/PE_KURIAN_SIR/iiitb_server']\n"
     ]
    }
   ],
   "source": [
    "\n"
   ]
  },
  {
   "cell_type": "code",
   "execution_count": 2,
   "metadata": {},
   "outputs": [
    {
     "data": {
      "text/html": [
       "<div>\n",
       "<style scoped>\n",
       "    .dataframe tbody tr th:only-of-type {\n",
       "        vertical-align: middle;\n",
       "    }\n",
       "\n",
       "    .dataframe tbody tr th {\n",
       "        vertical-align: top;\n",
       "    }\n",
       "\n",
       "    .dataframe thead th {\n",
       "        text-align: right;\n",
       "    }\n",
       "</style>\n",
       "<table border=\"1\" class=\"dataframe\">\n",
       "  <thead>\n",
       "    <tr style=\"text-align: right;\">\n",
       "      <th></th>\n",
       "      <th>timings</th>\n",
       "      <th>description</th>\n",
       "    </tr>\n",
       "  </thead>\n",
       "  <tbody>\n",
       "    <tr>\n",
       "      <th>0</th>\n",
       "      <td>2025-02-14_00-05-46</td>\n",
       "      <td>a man with a beard and a white shirt</td>\n",
       "    </tr>\n",
       "    <tr>\n",
       "      <th>1</th>\n",
       "      <td>2025-02-14_00-05-55</td>\n",
       "      <td>a man with a beard and a white shirt</td>\n",
       "    </tr>\n",
       "    <tr>\n",
       "      <th>2</th>\n",
       "      <td>2025-02-14_00-06-04</td>\n",
       "      <td>a man with a blue face painted on his face</td>\n",
       "    </tr>\n",
       "    <tr>\n",
       "      <th>3</th>\n",
       "      <td>2025-02-14_00-06-14</td>\n",
       "      <td>a man with a beard and a white shirt</td>\n",
       "    </tr>\n",
       "    <tr>\n",
       "      <th>4</th>\n",
       "      <td>2025-02-14_00-06-23</td>\n",
       "      <td>a man with a beard and a blue face paint</td>\n",
       "    </tr>\n",
       "    <tr>\n",
       "      <th>...</th>\n",
       "      <td>...</td>\n",
       "      <td>...</td>\n",
       "    </tr>\n",
       "    <tr>\n",
       "      <th>193</th>\n",
       "      <td>2025-02-14_04-01-40</td>\n",
       "      <td>a man with a blue face painted on his face</td>\n",
       "    </tr>\n",
       "    <tr>\n",
       "      <th>194</th>\n",
       "      <td>2025-02-14_04-01-44</td>\n",
       "      <td>a man with a beard and a white shirt</td>\n",
       "    </tr>\n",
       "    <tr>\n",
       "      <th>195</th>\n",
       "      <td>2025-02-14_04-01-47</td>\n",
       "      <td>a man with a beard and a blue face</td>\n",
       "    </tr>\n",
       "    <tr>\n",
       "      <th>196</th>\n",
       "      <td>2025-02-14_04-01-50</td>\n",
       "      <td>a man with a blue face and a white shirt</td>\n",
       "    </tr>\n",
       "    <tr>\n",
       "      <th>197</th>\n",
       "      <td>2025-02-14_04-01-53</td>\n",
       "      <td>a man is looking at his reflection in the mirror</td>\n",
       "    </tr>\n",
       "  </tbody>\n",
       "</table>\n",
       "<p>198 rows × 2 columns</p>\n",
       "</div>"
      ],
      "text/plain": [
       "                 timings                                       description\n",
       "0    2025-02-14_00-05-46              a man with a beard and a white shirt\n",
       "1    2025-02-14_00-05-55              a man with a beard and a white shirt\n",
       "2    2025-02-14_00-06-04        a man with a blue face painted on his face\n",
       "3    2025-02-14_00-06-14              a man with a beard and a white shirt\n",
       "4    2025-02-14_00-06-23          a man with a beard and a blue face paint\n",
       "..                   ...                                               ...\n",
       "193  2025-02-14_04-01-40        a man with a blue face painted on his face\n",
       "194  2025-02-14_04-01-44              a man with a beard and a white shirt\n",
       "195  2025-02-14_04-01-47                a man with a beard and a blue face\n",
       "196  2025-02-14_04-01-50          a man with a blue face and a white shirt\n",
       "197  2025-02-14_04-01-53  a man is looking at his reflection in the mirror\n",
       "\n",
       "[198 rows x 2 columns]"
      ]
     },
     "execution_count": 2,
     "metadata": {},
     "output_type": "execute_result"
    }
   ],
   "source": [
    "import sys\n",
    "import os\n",
    "import pandas as pd\n",
    "\n",
    "# Go up one level to the parent directory that contains iiitb_server\n",
    "#sys.path.append(os.path.abspath(\"..\"))\n",
    "\n",
    "# Now import your class from iiitb_server.database\n",
    "#from database import extract_csv_data\n",
    "\n",
    "\n",
    "pd.read_csv(\"../database/data.csv\")\n",
    "# Create an instance and call methods\n",
    "#help(extract_csv_data.extract_total())\n"
   ]
  },
  {
   "cell_type": "code",
   "execution_count": 13,
   "metadata": {},
   "outputs": [
    {
     "name": "stdout",
     "output_type": "stream",
     "text": [
      "Help on class extract_csv_data in module database.extract_csv_data:\n",
      "\n",
      "class extract_csv_data(builtins.object)\n",
      " |  The whole day is divided into 4 different sections\n",
      " |  This should be done because of the RAG with chatbots \n",
      " |  This should be useful to work\n",
      " |  \n",
      " |  Methods defined here:\n",
      " |  \n",
      " |  extract_total()\n",
      " |  \n",
      " |  time_based_extraction()\n",
      " |  \n",
      " |  ----------------------------------------------------------------------\n",
      " |  Data descriptors defined here:\n",
      " |  \n",
      " |  __dict__\n",
      " |      dictionary for instance variables (if defined)\n",
      " |  \n",
      " |  __weakref__\n",
      " |      list of weak references to the object (if defined)\n",
      "\n"
     ]
    }
   ],
   "source": [
    "help(extract_csv_data)"
   ]
  },
  {
   "cell_type": "code",
   "execution_count": null,
   "metadata": {},
   "outputs": [],
   "source": []
  }
 ],
 "metadata": {
  "kernelspec": {
   "display_name": "Python 3",
   "language": "python",
   "name": "python3"
  },
  "language_info": {
   "codemirror_mode": {
    "name": "ipython",
    "version": 3
   },
   "file_extension": ".py",
   "mimetype": "text/x-python",
   "name": "python",
   "nbconvert_exporter": "python",
   "pygments_lexer": "ipython3",
   "version": "3.11.4"
  }
 },
 "nbformat": 4,
 "nbformat_minor": 2
}
